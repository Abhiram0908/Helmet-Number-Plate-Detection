{
  "cells": [
    {
      "cell_type": "code",
      "execution_count": 1,
      "metadata": {
        "colab": {
          "base_uri": "https://localhost:8080/"
        },
        "id": "ogXp84LtSYcj",
        "outputId": "175f0621-f76e-498e-adf7-6b6a117e4ef6"
      },
      "outputs": [
        {
          "name": "stderr",
          "output_type": "stream",
          "text": [
            "Cloning into 'Helmet-Number-Plate-Detection'...\n",
            "Updating files:  30% (50/164)\n",
            "Updating files:  31% (51/164)\n",
            "Updating files:  32% (53/164)\n",
            "Updating files:  33% (55/164)\n",
            "Updating files:  34% (56/164)\n",
            "Updating files:  35% (58/164)\n",
            "Updating files:  36% (60/164)\n",
            "Updating files:  37% (61/164)\n",
            "Updating files:  38% (63/164)\n",
            "Updating files:  39% (64/164)\n",
            "Updating files:  40% (66/164)\n",
            "Updating files:  41% (68/164)\n",
            "Updating files:  42% (69/164)\n",
            "Updating files:  43% (71/164)\n",
            "Updating files:  44% (73/164)\n",
            "Updating files:  45% (74/164)\n",
            "Updating files:  46% (76/164)\n",
            "Updating files:  47% (78/164)\n",
            "Updating files:  48% (79/164)\n",
            "Updating files:  49% (81/164)\n",
            "Updating files:  50% (82/164)\n",
            "Updating files:  51% (84/164)\n",
            "Updating files:  52% (86/164)\n",
            "Updating files:  53% (87/164)\n",
            "Updating files:  54% (89/164)\n",
            "Updating files:  55% (91/164)\n",
            "Updating files:  56% (92/164)\n",
            "Updating files:  57% (94/164)\n",
            "Updating files:  58% (96/164)\n",
            "Updating files:  59% (97/164)\n",
            "Updating files:  60% (99/164)\n",
            "Updating files:  61% (101/164)\n",
            "Updating files:  62% (102/164)\n",
            "Updating files:  63% (104/164)\n",
            "Updating files:  64% (105/164)\n",
            "Updating files:  65% (107/164)\n",
            "Updating files:  66% (109/164)\n",
            "Updating files:  67% (110/164)\n",
            "Updating files:  68% (112/164)\n",
            "Updating files:  69% (114/164)\n",
            "Updating files:  70% (115/164)\n",
            "Updating files:  71% (117/164)\n",
            "Updating files:  72% (119/164)\n",
            "Updating files:  73% (120/164)\n",
            "Updating files:  74% (122/164)\n",
            "Updating files:  75% (123/164)\n",
            "Updating files:  76% (125/164)\n",
            "Updating files:  77% (127/164)\n",
            "Updating files:  78% (128/164)\n",
            "Updating files:  79% (130/164)\n",
            "Updating files:  80% (132/164)\n",
            "Updating files:  81% (133/164)\n",
            "Updating files:  82% (135/164)\n",
            "Updating files:  83% (137/164)\n",
            "Updating files:  84% (138/164)\n",
            "Updating files:  85% (140/164)\n",
            "Updating files:  86% (142/164)\n",
            "Updating files:  87% (143/164)\n",
            "Updating files:  88% (145/164)\n",
            "Updating files:  89% (146/164)\n",
            "Updating files:  90% (148/164)\n",
            "Updating files:  91% (150/164)\n",
            "Updating files:  92% (151/164)\n",
            "Updating files:  93% (153/164)\n",
            "Updating files:  94% (155/164)\n",
            "Updating files:  95% (156/164)\n",
            "Updating files:  96% (158/164)\n",
            "Updating files:  97% (160/164)\n",
            "Updating files:  98% (161/164)\n",
            "Updating files:  99% (163/164)\n",
            "Updating files: 100% (164/164)\n",
            "Updating files: 100% (164/164), done.\n"
          ]
        }
      ],
      "source": [
        "!git clone https://github.com/Abhiram0908/Helmet-Number-Plate-Detection.git"
      ]
    },
    {
      "cell_type": "code",
      "execution_count": 2,
      "metadata": {
        "colab": {
          "base_uri": "https://localhost:8080/"
        },
        "id": "LICfvLAnSckw",
        "outputId": "a7ae339d-a04a-41a5-94ed-79e9e735f7dc"
      },
      "outputs": [
        {
          "name": "stdout",
          "output_type": "stream",
          "text": [
            "[WinError 3] The system cannot find the path specified: '/content/Helmet-Number-Plate-Detection'\n",
            "d:\\2024\\Project\\github_repo\\Helmet-Number-Plate-Detection\n"
          ]
        }
      ],
      "source": [
        "cd /content/Helmet-Number-Plate-Detection"
      ]
    },
    {
      "cell_type": "code",
      "execution_count": 4,
      "metadata": {
        "colab": {
          "base_uri": "https://localhost:8080/"
        },
        "id": "AUL7G4qoSeQz",
        "outputId": "f6e959c3-08b1-4fd8-b41e-9d97077b4cd3"
      },
      "outputs": [
        {
          "name": "stdout",
          "output_type": "stream",
          "text": [
            "Collecting ultralytics==8.0.3 (from -r requirements.txt (line 4))\n",
            "  Using cached ultralytics-8.0.3-py3-none-any.whl (247 kB)\n",
            "Collecting hydra-core>=1.2.0 (from -r requirements.txt (line 5))\n",
            "  Using cached hydra_core-1.3.2-py3-none-any.whl (154 kB)\n",
            "Requirement already satisfied: matplotlib>=3.2.2 in c:\\python310\\lib\\site-packages (from -r requirements.txt (line 6)) (3.6.2)\n",
            "Requirement already satisfied: numpy>=1.18.5 in c:\\users\\abhiram dacharla\\appdata\\roaming\\python\\python310\\site-packages (from -r requirements.txt (line 7)) (1.26.4)\n",
            "Requirement already satisfied: opencv-python>=4.1.1 in c:\\python310\\lib\\site-packages (from -r requirements.txt (line 8)) (4.9.0.80)\n",
            "Requirement already satisfied: Pillow>=7.1.2 in c:\\python310\\lib\\site-packages (from -r requirements.txt (line 9)) (9.3.0)\n",
            "Requirement already satisfied: PyYAML>=5.3.1 in c:\\python310\\lib\\site-packages (from -r requirements.txt (line 10)) (6.0)\n",
            "Requirement already satisfied: requests>=2.23.0 in c:\\python310\\lib\\site-packages (from -r requirements.txt (line 11)) (2.30.0)\n",
            "Requirement already satisfied: scipy>=1.4.1 in c:\\python310\\lib\\site-packages (from -r requirements.txt (line 12)) (1.9.3)\n",
            "Requirement already satisfied: torch>=1.7.0 in c:\\python310\\lib\\site-packages (from -r requirements.txt (line 13)) (2.2.0)\n",
            "Requirement already satisfied: torchvision>=0.8.1 in c:\\python310\\lib\\site-packages (from -r requirements.txt (line 14)) (0.17.0)\n",
            "Requirement already satisfied: tqdm>=4.64.0 in c:\\python310\\lib\\site-packages (from -r requirements.txt (line 15)) (4.64.1)\n",
            "Requirement already satisfied: tensorboard>=2.4.1 in c:\\users\\abhiram dacharla\\appdata\\roaming\\python\\python310\\site-packages (from -r requirements.txt (line 18)) (2.15.2)\n",
            "Requirement already satisfied: pandas>=1.1.4 in c:\\python310\\lib\\site-packages (from -r requirements.txt (line 22)) (1.4.4)\n",
            "Requirement already satisfied: seaborn>=0.11.0 in c:\\python310\\lib\\site-packages (from -r requirements.txt (line 23)) (0.12.1)\n",
            "Requirement already satisfied: ipython in c:\\users\\abhiram dacharla\\appdata\\roaming\\python\\python310\\site-packages (from -r requirements.txt (line 26)) (8.8.0)\n",
            "Requirement already satisfied: psutil in c:\\users\\abhiram dacharla\\appdata\\roaming\\python\\python310\\site-packages (from -r requirements.txt (line 27)) (5.9.4)\n",
            "Requirement already satisfied: thop>=0.1.1 in c:\\python310\\lib\\site-packages (from -r requirements.txt (line 28)) (0.1.1.post2209072238)\n",
            "Requirement already satisfied: GitPython>=3.1.24 in c:\\python310\\lib\\site-packages (from -r requirements.txt (line 31)) (3.1.41)\n",
            "Requirement already satisfied: omegaconf<2.4,>=2.2 in c:\\python310\\lib\\site-packages (from hydra-core>=1.2.0->-r requirements.txt (line 5)) (2.3.0)\n",
            "Requirement already satisfied: antlr4-python3-runtime==4.9.* in c:\\python310\\lib\\site-packages (from hydra-core>=1.2.0->-r requirements.txt (line 5)) (4.9.3)\n",
            "Requirement already satisfied: packaging in c:\\python310\\lib\\site-packages (from hydra-core>=1.2.0->-r requirements.txt (line 5)) (21.3)\n",
            "Requirement already satisfied: contourpy>=1.0.1 in c:\\python310\\lib\\site-packages (from matplotlib>=3.2.2->-r requirements.txt (line 6)) (1.0.5)\n",
            "Requirement already satisfied: cycler>=0.10 in c:\\python310\\lib\\site-packages (from matplotlib>=3.2.2->-r requirements.txt (line 6)) (0.11.0)\n",
            "Requirement already satisfied: fonttools>=4.22.0 in c:\\python310\\lib\\site-packages (from matplotlib>=3.2.2->-r requirements.txt (line 6)) (4.37.4)\n",
            "Requirement already satisfied: kiwisolver>=1.0.1 in c:\\python310\\lib\\site-packages (from matplotlib>=3.2.2->-r requirements.txt (line 6)) (1.4.4)\n",
            "Requirement already satisfied: pyparsing>=2.2.1 in c:\\python310\\lib\\site-packages (from matplotlib>=3.2.2->-r requirements.txt (line 6)) (3.0.9)\n",
            "Requirement already satisfied: python-dateutil>=2.7 in c:\\python310\\lib\\site-packages (from matplotlib>=3.2.2->-r requirements.txt (line 6)) (2.8.2)\n",
            "Requirement already satisfied: charset-normalizer<4,>=2 in c:\\python310\\lib\\site-packages (from requests>=2.23.0->-r requirements.txt (line 11)) (3.1.0)\n",
            "Requirement already satisfied: idna<4,>=2.5 in c:\\python310\\lib\\site-packages (from requests>=2.23.0->-r requirements.txt (line 11)) (3.4)\n",
            "Requirement already satisfied: urllib3<3,>=1.21.1 in c:\\python310\\lib\\site-packages (from requests>=2.23.0->-r requirements.txt (line 11)) (1.26.13)\n",
            "Requirement already satisfied: certifi>=2017.4.17 in c:\\python310\\lib\\site-packages (from requests>=2.23.0->-r requirements.txt (line 11)) (2022.12.7)\n",
            "Collecting numpy>=1.18.5 (from -r requirements.txt (line 7))\n",
            "  Using cached numpy-1.25.2-cp310-cp310-win_amd64.whl (15.6 MB)\n",
            "Requirement already satisfied: filelock in c:\\python310\\lib\\site-packages (from torch>=1.7.0->-r requirements.txt (line 13)) (3.12.0)\n",
            "Requirement already satisfied: typing-extensions>=4.8.0 in c:\\python310\\lib\\site-packages (from torch>=1.7.0->-r requirements.txt (line 13)) (4.9.0)\n",
            "Requirement already satisfied: sympy in c:\\python310\\lib\\site-packages (from torch>=1.7.0->-r requirements.txt (line 13)) (1.11.1)\n",
            "Requirement already satisfied: networkx in c:\\python310\\lib\\site-packages (from torch>=1.7.0->-r requirements.txt (line 13)) (3.2.1)\n",
            "Requirement already satisfied: jinja2 in c:\\python310\\lib\\site-packages (from torch>=1.7.0->-r requirements.txt (line 13)) (3.1.2)\n",
            "Requirement already satisfied: fsspec in c:\\python310\\lib\\site-packages (from torch>=1.7.0->-r requirements.txt (line 13)) (2024.2.0)\n",
            "Requirement already satisfied: colorama in c:\\python310\\lib\\site-packages (from tqdm>=4.64.0->-r requirements.txt (line 15)) (0.4.5)\n",
            "Requirement already satisfied: absl-py>=0.4 in c:\\users\\abhiram dacharla\\appdata\\roaming\\python\\python310\\site-packages (from tensorboard>=2.4.1->-r requirements.txt (line 18)) (2.1.0)\n",
            "Requirement already satisfied: grpcio>=1.48.2 in c:\\users\\abhiram dacharla\\appdata\\roaming\\python\\python310\\site-packages (from tensorboard>=2.4.1->-r requirements.txt (line 18)) (1.62.0)\n",
            "Requirement already satisfied: google-auth<3,>=1.6.3 in c:\\users\\abhiram dacharla\\appdata\\roaming\\python\\python310\\site-packages (from tensorboard>=2.4.1->-r requirements.txt (line 18)) (2.28.1)\n",
            "Requirement already satisfied: google-auth-oauthlib<2,>=0.5 in c:\\users\\abhiram dacharla\\appdata\\roaming\\python\\python310\\site-packages (from tensorboard>=2.4.1->-r requirements.txt (line 18)) (1.2.0)\n",
            "Requirement already satisfied: markdown>=2.6.8 in c:\\users\\abhiram dacharla\\appdata\\roaming\\python\\python310\\site-packages (from tensorboard>=2.4.1->-r requirements.txt (line 18)) (3.5.2)\n",
            "Requirement already satisfied: protobuf!=4.24.0,>=3.19.6 in c:\\python310\\lib\\site-packages (from tensorboard>=2.4.1->-r requirements.txt (line 18)) (4.23.4)\n",
            "Requirement already satisfied: setuptools>=41.0.0 in c:\\python310\\lib\\site-packages (from tensorboard>=2.4.1->-r requirements.txt (line 18)) (58.1.0)\n",
            "Requirement already satisfied: six>1.9 in c:\\python310\\lib\\site-packages (from tensorboard>=2.4.1->-r requirements.txt (line 18)) (1.16.0)\n",
            "Requirement already satisfied: tensorboard-data-server<0.8.0,>=0.7.0 in c:\\python310\\lib\\site-packages (from tensorboard>=2.4.1->-r requirements.txt (line 18)) (0.7.2)\n",
            "Requirement already satisfied: werkzeug>=1.0.1 in c:\\python310\\lib\\site-packages (from tensorboard>=2.4.1->-r requirements.txt (line 18)) (2.2.2)\n",
            "Requirement already satisfied: pytz>=2020.1 in c:\\python310\\lib\\site-packages (from pandas>=1.1.4->-r requirements.txt (line 22)) (2022.6)\n",
            "Requirement already satisfied: backcall in c:\\users\\abhiram dacharla\\appdata\\roaming\\python\\python310\\site-packages (from ipython->-r requirements.txt (line 26)) (0.2.0)\n",
            "Requirement already satisfied: decorator in c:\\users\\abhiram dacharla\\appdata\\roaming\\python\\python310\\site-packages (from ipython->-r requirements.txt (line 26)) (5.1.1)\n",
            "Requirement already satisfied: jedi>=0.16 in c:\\users\\abhiram dacharla\\appdata\\roaming\\python\\python310\\site-packages (from ipython->-r requirements.txt (line 26)) (0.18.2)\n",
            "Requirement already satisfied: matplotlib-inline in c:\\users\\abhiram dacharla\\appdata\\roaming\\python\\python310\\site-packages (from ipython->-r requirements.txt (line 26)) (0.1.6)\n",
            "Requirement already satisfied: pickleshare in c:\\users\\abhiram dacharla\\appdata\\roaming\\python\\python310\\site-packages (from ipython->-r requirements.txt (line 26)) (0.7.5)\n",
            "Requirement already satisfied: prompt-toolkit<3.1.0,>=3.0.11 in c:\\users\\abhiram dacharla\\appdata\\roaming\\python\\python310\\site-packages (from ipython->-r requirements.txt (line 26)) (3.0.36)\n",
            "Requirement already satisfied: pygments>=2.4.0 in c:\\users\\abhiram dacharla\\appdata\\roaming\\python\\python310\\site-packages (from ipython->-r requirements.txt (line 26)) (2.14.0)\n",
            "Requirement already satisfied: stack-data in c:\\users\\abhiram dacharla\\appdata\\roaming\\python\\python310\\site-packages (from ipython->-r requirements.txt (line 26)) (0.6.2)\n",
            "Requirement already satisfied: traitlets>=5 in c:\\users\\abhiram dacharla\\appdata\\roaming\\python\\python310\\site-packages (from ipython->-r requirements.txt (line 26)) (5.8.1)\n",
            "Requirement already satisfied: gitdb<5,>=4.0.1 in c:\\python310\\lib\\site-packages (from GitPython>=3.1.24->-r requirements.txt (line 31)) (4.0.11)\n",
            "Requirement already satisfied: smmap<6,>=3.0.1 in c:\\python310\\lib\\site-packages (from gitdb<5,>=4.0.1->GitPython>=3.1.24->-r requirements.txt (line 31)) (5.0.1)\n",
            "Requirement already satisfied: cachetools<6.0,>=2.0.0 in c:\\users\\abhiram dacharla\\appdata\\roaming\\python\\python310\\site-packages (from google-auth<3,>=1.6.3->tensorboard>=2.4.1->-r requirements.txt (line 18)) (5.3.3)\n",
            "Requirement already satisfied: pyasn1-modules>=0.2.1 in c:\\python310\\lib\\site-packages (from google-auth<3,>=1.6.3->tensorboard>=2.4.1->-r requirements.txt (line 18)) (0.3.0)\n",
            "Requirement already satisfied: rsa<5,>=3.1.4 in c:\\python310\\lib\\site-packages (from google-auth<3,>=1.6.3->tensorboard>=2.4.1->-r requirements.txt (line 18)) (4.9)\n",
            "Requirement already satisfied: requests-oauthlib>=0.7.0 in c:\\users\\abhiram dacharla\\appdata\\roaming\\python\\python310\\site-packages (from google-auth-oauthlib<2,>=0.5->tensorboard>=2.4.1->-r requirements.txt (line 18)) (1.3.1)\n",
            "Requirement already satisfied: parso<0.9.0,>=0.8.0 in c:\\users\\abhiram dacharla\\appdata\\roaming\\python\\python310\\site-packages (from jedi>=0.16->ipython->-r requirements.txt (line 26)) (0.8.3)\n",
            "Requirement already satisfied: wcwidth in c:\\users\\abhiram dacharla\\appdata\\roaming\\python\\python310\\site-packages (from prompt-toolkit<3.1.0,>=3.0.11->ipython->-r requirements.txt (line 26)) (0.2.6)\n",
            "Requirement already satisfied: MarkupSafe>=2.1.1 in c:\\python310\\lib\\site-packages (from werkzeug>=1.0.1->tensorboard>=2.4.1->-r requirements.txt (line 18)) (2.1.1)\n",
            "Requirement already satisfied: executing>=1.2.0 in c:\\users\\abhiram dacharla\\appdata\\roaming\\python\\python310\\site-packages (from stack-data->ipython->-r requirements.txt (line 26)) (1.2.0)\n",
            "Requirement already satisfied: asttokens>=2.1.0 in c:\\users\\abhiram dacharla\\appdata\\roaming\\python\\python310\\site-packages (from stack-data->ipython->-r requirements.txt (line 26)) (2.2.1)\n",
            "Requirement already satisfied: pure-eval in c:\\users\\abhiram dacharla\\appdata\\roaming\\python\\python310\\site-packages (from stack-data->ipython->-r requirements.txt (line 26)) (0.2.2)\n",
            "Requirement already satisfied: mpmath>=0.19 in c:\\python310\\lib\\site-packages (from sympy->torch>=1.7.0->-r requirements.txt (line 13)) (1.3.0)\n",
            "Requirement already satisfied: pyasn1<0.6.0,>=0.4.6 in c:\\python310\\lib\\site-packages (from pyasn1-modules>=0.2.1->google-auth<3,>=1.6.3->tensorboard>=2.4.1->-r requirements.txt (line 18)) (0.5.0)\n",
            "Requirement already satisfied: oauthlib>=3.0.0 in c:\\python310\\lib\\site-packages (from requests-oauthlib>=0.7.0->google-auth-oauthlib<2,>=0.5->tensorboard>=2.4.1->-r requirements.txt (line 18)) (3.2.2)\n",
            "Installing collected packages: numpy, hydra-core, ultralytics\n",
            "  Attempting uninstall: numpy\n",
            "    Found existing installation: numpy 1.26.4\n",
            "    Uninstalling numpy-1.26.4:\n",
            "      Successfully uninstalled numpy-1.26.4\n",
            "  Rolling back uninstall of numpy\n",
            "  Moving to c:\\users\\abhiram dacharla\\appdata\\roaming\\python\\python310\\scripts\\f2py.exe\n",
            "   from C:\\Users\\Abhiram Dacharla\\AppData\\Local\\Temp\\pip-uninstall-ol6cg5u1\\f2py.exe\n",
            "  Moving to c:\\users\\abhiram dacharla\\appdata\\roaming\\python\\python310\\site-packages\\numpy-1.26.4-cp310-cp310-win_amd64.whl\n",
            "   from C:\\Users\\Abhiram Dacharla\\AppData\\Local\\Temp\\pip-uninstall-pucj5ar6\\numpy-1.26.4-cp310-cp310-win_amd64.whl\n",
            "  Moving to c:\\users\\abhiram dacharla\\appdata\\roaming\\python\\python310\\site-packages\\numpy-1.26.4.dist-info\\\n",
            "   from C:\\Users\\Abhiram Dacharla\\AppData\\Roaming\\Python\\Python310\\site-packages\\~umpy-1.26.4.dist-info\n",
            "  Moving to c:\\users\\abhiram dacharla\\appdata\\roaming\\python\\python310\\site-packages\\numpy.libs\\\n",
            "   from C:\\Users\\Abhiram Dacharla\\AppData\\Roaming\\Python\\Python310\\site-packages\\~umpy.libs\n",
            "  Moving to c:\\users\\abhiram dacharla\\appdata\\roaming\\python\\python310\\site-packages\\numpy\\\n",
            "   from C:\\Users\\Abhiram Dacharla\\AppData\\Roaming\\Python\\Python310\\site-packages\\~umpy\n",
            "Note: you may need to restart the kernel to use updated packages.\n"
          ]
        },
        {
          "name": "stderr",
          "output_type": "stream",
          "text": [
            "WARNING: Ignoring invalid distribution -ip (c:\\python310\\lib\\site-packages)\n",
            "WARNING: Ignoring invalid distribution -pencv-python (c:\\python310\\lib\\site-packages)\n",
            "WARNING: Ignoring invalid distribution -ip (c:\\python310\\lib\\site-packages)\n",
            "WARNING: Ignoring invalid distribution -pencv-python (c:\\python310\\lib\\site-packages)\n",
            "  WARNING: Failed to write executable - trying to use .deleteme logic\n",
            "ERROR: Could not install packages due to an OSError: [WinError 2] The system cannot find the file specified: 'c:\\\\Python310\\\\Scripts\\\\f2py.exe' -> 'c:\\\\Python310\\\\Scripts\\\\f2py.exe.deleteme'\n",
            "\n"
          ]
        }
      ],
      "source": [
        "pip install -r requirements.txt"
      ]
    },
    {
      "cell_type": "code",
      "execution_count": 8,
      "metadata": {
        "colab": {
          "base_uri": "https://localhost:8080/"
        },
        "id": "deUHWDCqSiCh",
        "outputId": "cdabcefb-7f20-481a-a632-a6ef9b7acf0b"
      },
      "outputs": [
        {
          "name": "stdout",
          "output_type": "stream",
          "text": [
            "Defaulting to user installation because normal site-packages is not writeable\n",
            "Requirement already satisfied: tesseract in c:\\users\\abhiram dacharla\\appdata\\roaming\\python\\python38\\site-packages (0.1.3)\n"
          ]
        },
        {
          "name": "stderr",
          "output_type": "stream",
          "text": [
            "WARNING: You are using pip version 21.1.1; however, version 24.0 is available.\n",
            "You should consider upgrading via the 'c:\\program files\\python38\\python.exe -m pip install --upgrade pip' command.\n"
          ]
        },
        {
          "name": "stdout",
          "output_type": "stream",
          "text": [
            "Defaulting to user installation because normal site-packages is not writeable\n",
            "Requirement already satisfied: Pillow in c:\\users\\abhiram dacharla\\appdata\\roaming\\python\\python38\\site-packages (10.2.0)\n"
          ]
        },
        {
          "name": "stderr",
          "output_type": "stream",
          "text": [
            "WARNING: You are using pip version 21.1.1; however, version 24.0 is available.\n",
            "You should consider upgrading via the 'c:\\program files\\python38\\python.exe -m pip install --upgrade pip' command.\n"
          ]
        },
        {
          "name": "stdout",
          "output_type": "stream",
          "text": [
            "Defaulting to user installation because normal site-packages is not writeable\n",
            "Requirement already satisfied: pytesseract in c:\\users\\abhiram dacharla\\appdata\\roaming\\python\\python38\\site-packages (0.3.10)\n",
            "Requirement already satisfied: Pillow>=8.0.0 in c:\\users\\abhiram dacharla\\appdata\\roaming\\python\\python38\\site-packages (from pytesseract) (10.2.0)\n",
            "Requirement already satisfied: packaging>=21.3 in c:\\users\\abhiram dacharla\\appdata\\roaming\\python\\python38\\site-packages (from pytesseract) (23.2)\n"
          ]
        },
        {
          "name": "stderr",
          "output_type": "stream",
          "text": [
            "WARNING: You are using pip version 21.1.1; however, version 24.0 is available.\n",
            "You should consider upgrading via the 'c:\\program files\\python38\\python.exe -m pip install --upgrade pip' command.\n"
          ]
        }
      ],
      "source": [
        "! pip install tesseract\n",
        "! pip install Pillow\n",
        "! pip install pytesseract"
      ]
    },
    {
      "cell_type": "code",
      "execution_count": 5,
      "metadata": {
        "colab": {
          "base_uri": "https://localhost:8080/",
          "height": 356
        },
        "id": "lBcYv_mKSj67",
        "outputId": "154dbd20-c52c-482c-97ec-e731fdc80135"
      },
      "outputs": [
        {
          "ename": "ModuleNotFoundError",
          "evalue": "No module named 'pytesseract'",
          "output_type": "error",
          "traceback": [
            "\u001b[1;31m---------------------------------------------------------------------------\u001b[0m",
            "\u001b[1;31mModuleNotFoundError\u001b[0m                       Traceback (most recent call last)",
            "Cell \u001b[1;32mIn[5], line 2\u001b[0m\n\u001b[0;32m      1\u001b[0m \u001b[38;5;28;01mimport\u001b[39;00m \u001b[38;5;21;01mos\u001b[39;00m\n\u001b[1;32m----> 2\u001b[0m \u001b[38;5;28;01mimport\u001b[39;00m \u001b[38;5;21;01mpytesseract\u001b[39;00m\n\u001b[0;32m      3\u001b[0m \u001b[38;5;28;01mfrom\u001b[39;00m \u001b[38;5;21;01mPIL\u001b[39;00m \u001b[38;5;28;01mimport\u001b[39;00m Image\n\u001b[0;32m      4\u001b[0m \u001b[38;5;66;03m# Initialize Tesseract\u001b[39;00m\n",
            "\u001b[1;31mModuleNotFoundError\u001b[0m: No module named 'pytesseract'"
          ]
        }
      ],
      "source": [
        "import os\n",
        "import pytesseract\n",
        "from PIL import Image\n",
        "# Initialize Tesseract\n",
        "pytesseract.pytesseract.tesseract_cmd = \"D:\\2024\\Project\\github_repo\\Helmet-Number-Plate-Detection\\Tesseract-OCR\\tesseract.exe\"\n",
        "# Open the image\n",
        "image = Image.open(\"D:\\2024\\Project\\github_repo\\Helmet-Number-Plate-Detection\\numberplate.jpg\")\n",
        "print(pytesseract.image_to_string(image))\n",
        "print(\"Text extraction completed!\")"
      ]
    }
  ],
  "metadata": {
    "colab": {
      "provenance": []
    },
    "kernelspec": {
      "display_name": "Python 3",
      "name": "python3"
    },
    "language_info": {
      "codemirror_mode": {
        "name": "ipython",
        "version": 3
      },
      "file_extension": ".py",
      "mimetype": "text/x-python",
      "name": "python",
      "nbconvert_exporter": "python",
      "pygments_lexer": "ipython3",
      "version": "3.10.5"
    }
  },
  "nbformat": 4,
  "nbformat_minor": 0
}
