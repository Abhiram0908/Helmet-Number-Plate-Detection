{
  "cells": [
    {
      "cell_type": "code",
      "execution_count": 2,
      "metadata": {
        "colab": {
          "base_uri": "https://localhost:8080/"
        },
        "id": "KdcIgLjUcSkq",
        "outputId": "3b4f5d8a-e779-4479-c8f3-8cf5e88a7a70"
      },
      "outputs": [
        {
          "name": "stdout",
          "output_type": "stream",
          "text": [
            "Cloning into 'Helmet-Number-Plate-Detection'...\n",
            "remote: Enumerating objects: 167, done.\u001b[K\n",
            "remote: Counting objects: 100% (47/47), done.\u001b[K\n",
            "remote: Compressing objects: 100% (34/34), done.\u001b[K\n",
            "remote: Total 167 (delta 18), reused 41 (delta 12), pack-reused 120\u001b[K\n",
            "Receiving objects: 100% (167/167), 192.49 MiB | 31.67 MiB/s, done.\n",
            "Resolving deltas: 100% (38/38), done.\n"
          ]
        }
      ],
      "source": [
        "!git clone https://github.com/Abhiram0908/Helmet-Number-Plate-Detection.git"
      ]
    },
    {
      "cell_type": "code",
      "execution_count": 3,
      "metadata": {
        "colab": {
          "base_uri": "https://localhost:8080/"
        },
        "id": "JQeFL6tDcmPx",
        "outputId": "40615340-8dcf-49f4-8d24-4d7c8e5ba394"
      },
      "outputs": [
        {
          "name": "stdout",
          "output_type": "stream",
          "text": [
            "/content/Helmet-Number-Plate-Detection\n"
          ]
        }
      ],
      "source": [
        "cd /content/Helmet-Number-Plate-Detection"
      ]
    },
    {
      "cell_type": "code",
      "execution_count": 1,
      "metadata": {
        "colab": {
          "base_uri": "https://localhost:8080/",
          "height": 1000
        },
        "id": "YXYSFr20co3a",
        "outputId": "378c74c2-0c2e-4d3c-e175-9e451e1c3517"
      },
      "outputs": [
        {
          "name": "stdout",
          "output_type": "stream",
          "text": [
            "Collecting ultralytics==8.0.3 (from -r requirements.txt (line 4))\n",
            "  Using cached ultralytics-8.0.3-py3-none-any.whl (247 kB)\n",
            "Collecting hydra-core>=1.2.0 (from -r requirements.txt (line 5))\n",
            "  Using cached hydra_core-1.3.2-py3-none-any.whl (154 kB)\n",
            "Requirement already satisfied: matplotlib>=3.2.2 in c:\\python310\\lib\\site-packages (from -r requirements.txt (line 6)) (3.6.2)\n",
            "Requirement already satisfied: numpy>=1.18.5 in c:\\users\\abhiram dacharla\\appdata\\roaming\\python\\python310\\site-packages (from -r requirements.txt (line 7)) (1.26.4)\n",
            "Requirement already satisfied: opencv-python>=4.1.1 in c:\\python310\\lib\\site-packages (from -r requirements.txt (line 8)) (4.9.0.80)\n",
            "Requirement already satisfied: Pillow>=7.1.2 in c:\\python310\\lib\\site-packages (from -r requirements.txt (line 9)) (9.3.0)\n",
            "Requirement already satisfied: PyYAML>=5.3.1 in c:\\python310\\lib\\site-packages (from -r requirements.txt (line 10)) (6.0)\n",
            "Requirement already satisfied: requests>=2.23.0 in c:\\python310\\lib\\site-packages (from -r requirements.txt (line 11)) (2.30.0)\n",
            "Requirement already satisfied: scipy>=1.4.1 in c:\\python310\\lib\\site-packages (from -r requirements.txt (line 12)) (1.9.3)\n",
            "Requirement already satisfied: torch>=1.7.0 in c:\\python310\\lib\\site-packages (from -r requirements.txt (line 13)) (2.2.0)\n",
            "Requirement already satisfied: torchvision>=0.8.1 in c:\\python310\\lib\\site-packages (from -r requirements.txt (line 14)) (0.17.0)\n",
            "Requirement already satisfied: tqdm>=4.64.0 in c:\\python310\\lib\\site-packages (from -r requirements.txt (line 15)) (4.64.1)\n",
            "Requirement already satisfied: tensorboard>=2.4.1 in c:\\users\\abhiram dacharla\\appdata\\roaming\\python\\python310\\site-packages (from -r requirements.txt (line 18)) (2.15.2)\n",
            "Requirement already satisfied: pandas>=1.1.4 in c:\\python310\\lib\\site-packages (from -r requirements.txt (line 22)) (1.4.4)\n",
            "Requirement already satisfied: seaborn>=0.11.0 in c:\\python310\\lib\\site-packages (from -r requirements.txt (line 23)) (0.12.1)\n",
            "Requirement already satisfied: ipython in c:\\users\\abhiram dacharla\\appdata\\roaming\\python\\python310\\site-packages (from -r requirements.txt (line 26)) (8.8.0)\n",
            "Requirement already satisfied: psutil in c:\\users\\abhiram dacharla\\appdata\\roaming\\python\\python310\\site-packages (from -r requirements.txt (line 27)) (5.9.4)\n",
            "Requirement already satisfied: thop>=0.1.1 in c:\\python310\\lib\\site-packages (from -r requirements.txt (line 28)) (0.1.1.post2209072238)\n",
            "Requirement already satisfied: GitPython>=3.1.24 in c:\\python310\\lib\\site-packages (from -r requirements.txt (line 31)) (3.1.41)\n",
            "Collecting omegaconf<2.4,>=2.2 (from hydra-core>=1.2.0->-r requirements.txt (line 5))\n",
            "  Using cached omegaconf-2.3.0-py3-none-any.whl (79 kB)\n",
            "Requirement already satisfied: antlr4-python3-runtime==4.9.* in c:\\python310\\lib\\site-packages (from hydra-core>=1.2.0->-r requirements.txt (line 5)) (4.9.3)\n",
            "Requirement already satisfied: packaging in c:\\python310\\lib\\site-packages (from hydra-core>=1.2.0->-r requirements.txt (line 5)) (21.3)\n",
            "Requirement already satisfied: contourpy>=1.0.1 in c:\\python310\\lib\\site-packages (from matplotlib>=3.2.2->-r requirements.txt (line 6)) (1.0.5)\n",
            "Requirement already satisfied: cycler>=0.10 in c:\\python310\\lib\\site-packages (from matplotlib>=3.2.2->-r requirements.txt (line 6)) (0.11.0)\n",
            "Requirement already satisfied: fonttools>=4.22.0 in c:\\python310\\lib\\site-packages (from matplotlib>=3.2.2->-r requirements.txt (line 6)) (4.37.4)\n",
            "Requirement already satisfied: kiwisolver>=1.0.1 in c:\\python310\\lib\\site-packages (from matplotlib>=3.2.2->-r requirements.txt (line 6)) (1.4.4)\n",
            "Requirement already satisfied: pyparsing>=2.2.1 in c:\\python310\\lib\\site-packages (from matplotlib>=3.2.2->-r requirements.txt (line 6)) (3.0.9)\n",
            "Requirement already satisfied: python-dateutil>=2.7 in c:\\python310\\lib\\site-packages (from matplotlib>=3.2.2->-r requirements.txt (line 6)) (2.8.2)\n",
            "Requirement already satisfied: charset-normalizer<4,>=2 in c:\\python310\\lib\\site-packages (from requests>=2.23.0->-r requirements.txt (line 11)) (3.1.0)\n",
            "Requirement already satisfied: idna<4,>=2.5 in c:\\python310\\lib\\site-packages (from requests>=2.23.0->-r requirements.txt (line 11)) (3.4)\n",
            "Requirement already satisfied: urllib3<3,>=1.21.1 in c:\\python310\\lib\\site-packages (from requests>=2.23.0->-r requirements.txt (line 11)) (1.26.13)\n",
            "Requirement already satisfied: certifi>=2017.4.17 in c:\\python310\\lib\\site-packages (from requests>=2.23.0->-r requirements.txt (line 11)) (2022.12.7)\n",
            "Collecting numpy>=1.18.5 (from -r requirements.txt (line 7))\n",
            "  Using cached numpy-1.25.2-cp310-cp310-win_amd64.whl (15.6 MB)\n",
            "Requirement already satisfied: filelock in c:\\python310\\lib\\site-packages (from torch>=1.7.0->-r requirements.txt (line 13)) (3.12.0)\n",
            "Requirement already satisfied: typing-extensions>=4.8.0 in c:\\python310\\lib\\site-packages (from torch>=1.7.0->-r requirements.txt (line 13)) (4.9.0)\n",
            "Requirement already satisfied: sympy in c:\\python310\\lib\\site-packages (from torch>=1.7.0->-r requirements.txt (line 13)) (1.11.1)\n",
            "Requirement already satisfied: networkx in c:\\python310\\lib\\site-packages (from torch>=1.7.0->-r requirements.txt (line 13)) (3.2.1)\n",
            "Requirement already satisfied: jinja2 in c:\\python310\\lib\\site-packages (from torch>=1.7.0->-r requirements.txt (line 13)) (3.1.2)\n",
            "Requirement already satisfied: fsspec in c:\\python310\\lib\\site-packages (from torch>=1.7.0->-r requirements.txt (line 13)) (2024.2.0)\n",
            "Requirement already satisfied: colorama in c:\\python310\\lib\\site-packages (from tqdm>=4.64.0->-r requirements.txt (line 15)) (0.4.5)\n",
            "Requirement already satisfied: absl-py>=0.4 in c:\\users\\abhiram dacharla\\appdata\\roaming\\python\\python310\\site-packages (from tensorboard>=2.4.1->-r requirements.txt (line 18)) (2.1.0)\n",
            "Requirement already satisfied: grpcio>=1.48.2 in c:\\users\\abhiram dacharla\\appdata\\roaming\\python\\python310\\site-packages (from tensorboard>=2.4.1->-r requirements.txt (line 18)) (1.62.0)\n",
            "Requirement already satisfied: google-auth<3,>=1.6.3 in c:\\users\\abhiram dacharla\\appdata\\roaming\\python\\python310\\site-packages (from tensorboard>=2.4.1->-r requirements.txt (line 18)) (2.28.1)\n",
            "Requirement already satisfied: google-auth-oauthlib<2,>=0.5 in c:\\users\\abhiram dacharla\\appdata\\roaming\\python\\python310\\site-packages (from tensorboard>=2.4.1->-r requirements.txt (line 18)) (1.2.0)\n",
            "Requirement already satisfied: markdown>=2.6.8 in c:\\users\\abhiram dacharla\\appdata\\roaming\\python\\python310\\site-packages (from tensorboard>=2.4.1->-r requirements.txt (line 18)) (3.5.2)\n",
            "Requirement already satisfied: protobuf!=4.24.0,>=3.19.6 in c:\\python310\\lib\\site-packages (from tensorboard>=2.4.1->-r requirements.txt (line 18)) (4.23.4)\n",
            "Requirement already satisfied: setuptools>=41.0.0 in c:\\python310\\lib\\site-packages (from tensorboard>=2.4.1->-r requirements.txt (line 18)) (58.1.0)\n",
            "Requirement already satisfied: six>1.9 in c:\\python310\\lib\\site-packages (from tensorboard>=2.4.1->-r requirements.txt (line 18)) (1.16.0)\n",
            "Requirement already satisfied: tensorboard-data-server<0.8.0,>=0.7.0 in c:\\python310\\lib\\site-packages (from tensorboard>=2.4.1->-r requirements.txt (line 18)) (0.7.2)\n",
            "Requirement already satisfied: werkzeug>=1.0.1 in c:\\python310\\lib\\site-packages (from tensorboard>=2.4.1->-r requirements.txt (line 18)) (2.2.2)\n",
            "Requirement already satisfied: pytz>=2020.1 in c:\\python310\\lib\\site-packages (from pandas>=1.1.4->-r requirements.txt (line 22)) (2022.6)\n",
            "Requirement already satisfied: backcall in c:\\users\\abhiram dacharla\\appdata\\roaming\\python\\python310\\site-packages (from ipython->-r requirements.txt (line 26)) (0.2.0)\n",
            "Requirement already satisfied: decorator in c:\\users\\abhiram dacharla\\appdata\\roaming\\python\\python310\\site-packages (from ipython->-r requirements.txt (line 26)) (5.1.1)\n",
            "Requirement already satisfied: jedi>=0.16 in c:\\users\\abhiram dacharla\\appdata\\roaming\\python\\python310\\site-packages (from ipython->-r requirements.txt (line 26)) (0.18.2)\n",
            "Requirement already satisfied: matplotlib-inline in c:\\users\\abhiram dacharla\\appdata\\roaming\\python\\python310\\site-packages (from ipython->-r requirements.txt (line 26)) (0.1.6)\n",
            "Requirement already satisfied: pickleshare in c:\\users\\abhiram dacharla\\appdata\\roaming\\python\\python310\\site-packages (from ipython->-r requirements.txt (line 26)) (0.7.5)\n",
            "Requirement already satisfied: prompt-toolkit<3.1.0,>=3.0.11 in c:\\users\\abhiram dacharla\\appdata\\roaming\\python\\python310\\site-packages (from ipython->-r requirements.txt (line 26)) (3.0.36)\n",
            "Requirement already satisfied: pygments>=2.4.0 in c:\\users\\abhiram dacharla\\appdata\\roaming\\python\\python310\\site-packages (from ipython->-r requirements.txt (line 26)) (2.14.0)\n",
            "Requirement already satisfied: stack-data in c:\\users\\abhiram dacharla\\appdata\\roaming\\python\\python310\\site-packages (from ipython->-r requirements.txt (line 26)) (0.6.2)\n",
            "Requirement already satisfied: traitlets>=5 in c:\\users\\abhiram dacharla\\appdata\\roaming\\python\\python310\\site-packages (from ipython->-r requirements.txt (line 26)) (5.8.1)\n",
            "Requirement already satisfied: gitdb<5,>=4.0.1 in c:\\python310\\lib\\site-packages (from GitPython>=3.1.24->-r requirements.txt (line 31)) (4.0.11)\n",
            "Requirement already satisfied: smmap<6,>=3.0.1 in c:\\python310\\lib\\site-packages (from gitdb<5,>=4.0.1->GitPython>=3.1.24->-r requirements.txt (line 31)) (5.0.1)\n",
            "Requirement already satisfied: cachetools<6.0,>=2.0.0 in c:\\users\\abhiram dacharla\\appdata\\roaming\\python\\python310\\site-packages (from google-auth<3,>=1.6.3->tensorboard>=2.4.1->-r requirements.txt (line 18)) (5.3.3)\n",
            "Requirement already satisfied: pyasn1-modules>=0.2.1 in c:\\python310\\lib\\site-packages (from google-auth<3,>=1.6.3->tensorboard>=2.4.1->-r requirements.txt (line 18)) (0.3.0)\n",
            "Requirement already satisfied: rsa<5,>=3.1.4 in c:\\python310\\lib\\site-packages (from google-auth<3,>=1.6.3->tensorboard>=2.4.1->-r requirements.txt (line 18)) (4.9)\n",
            "Requirement already satisfied: requests-oauthlib>=0.7.0 in c:\\users\\abhiram dacharla\\appdata\\roaming\\python\\python310\\site-packages (from google-auth-oauthlib<2,>=0.5->tensorboard>=2.4.1->-r requirements.txt (line 18)) (1.3.1)\n",
            "Requirement already satisfied: parso<0.9.0,>=0.8.0 in c:\\users\\abhiram dacharla\\appdata\\roaming\\python\\python310\\site-packages (from jedi>=0.16->ipython->-r requirements.txt (line 26)) (0.8.3)\n",
            "Requirement already satisfied: wcwidth in c:\\users\\abhiram dacharla\\appdata\\roaming\\python\\python310\\site-packages (from prompt-toolkit<3.1.0,>=3.0.11->ipython->-r requirements.txt (line 26)) (0.2.6)\n",
            "Requirement already satisfied: MarkupSafe>=2.1.1 in c:\\python310\\lib\\site-packages (from werkzeug>=1.0.1->tensorboard>=2.4.1->-r requirements.txt (line 18)) (2.1.1)\n",
            "Requirement already satisfied: executing>=1.2.0 in c:\\users\\abhiram dacharla\\appdata\\roaming\\python\\python310\\site-packages (from stack-data->ipython->-r requirements.txt (line 26)) (1.2.0)\n",
            "Requirement already satisfied: asttokens>=2.1.0 in c:\\users\\abhiram dacharla\\appdata\\roaming\\python\\python310\\site-packages (from stack-data->ipython->-r requirements.txt (line 26)) (2.2.1)\n",
            "Requirement already satisfied: pure-eval in c:\\users\\abhiram dacharla\\appdata\\roaming\\python\\python310\\site-packages (from stack-data->ipython->-r requirements.txt (line 26)) (0.2.2)\n",
            "Requirement already satisfied: mpmath>=0.19 in c:\\python310\\lib\\site-packages (from sympy->torch>=1.7.0->-r requirements.txt (line 13)) (1.3.0)\n",
            "Requirement already satisfied: pyasn1<0.6.0,>=0.4.6 in c:\\python310\\lib\\site-packages (from pyasn1-modules>=0.2.1->google-auth<3,>=1.6.3->tensorboard>=2.4.1->-r requirements.txt (line 18)) (0.5.0)\n",
            "Requirement already satisfied: oauthlib>=3.0.0 in c:\\python310\\lib\\site-packages (from requests-oauthlib>=0.7.0->google-auth-oauthlib<2,>=0.5->tensorboard>=2.4.1->-r requirements.txt (line 18)) (3.2.2)\n",
            "Installing collected packages: omegaconf, numpy, hydra-core, ultralytics\n",
            "  Attempting uninstall: numpy\n",
            "    Found existing installation: numpy 1.26.4\n",
            "    Uninstalling numpy-1.26.4:\n",
            "      Successfully uninstalled numpy-1.26.4\n",
            "  Rolling back uninstall of numpy\n",
            "  Moving to c:\\users\\abhiram dacharla\\appdata\\roaming\\python\\python310\\scripts\\f2py.exe\n",
            "   from C:\\Users\\Abhiram Dacharla\\AppData\\Local\\Temp\\pip-uninstall-3i8bhug5\\f2py.exe\n",
            "  Moving to c:\\users\\abhiram dacharla\\appdata\\roaming\\python\\python310\\site-packages\\numpy-1.26.4-cp310-cp310-win_amd64.whl\n",
            "   from C:\\Users\\Abhiram Dacharla\\AppData\\Local\\Temp\\pip-uninstall-m6oqg_sz\\numpy-1.26.4-cp310-cp310-win_amd64.whl\n",
            "  Moving to c:\\users\\abhiram dacharla\\appdata\\roaming\\python\\python310\\site-packages\\numpy-1.26.4.dist-info\\\n",
            "   from C:\\Users\\Abhiram Dacharla\\AppData\\Roaming\\Python\\Python310\\site-packages\\~umpy-1.26.4.dist-info\n",
            "  Moving to c:\\users\\abhiram dacharla\\appdata\\roaming\\python\\python310\\site-packages\\numpy.libs\\\n",
            "   from C:\\Users\\Abhiram Dacharla\\AppData\\Roaming\\Python\\Python310\\site-packages\\~umpy.libs\n",
            "  Moving to c:\\users\\abhiram dacharla\\appdata\\roaming\\python\\python310\\site-packages\\numpy\\\n",
            "   from C:\\Users\\Abhiram Dacharla\\AppData\\Roaming\\Python\\Python310\\site-packages\\~umpy\n",
            "Note: you may need to restart the kernel to use updated packages.\n"
          ]
        },
        {
          "name": "stderr",
          "output_type": "stream",
          "text": [
            "WARNING: Ignoring invalid distribution -ip (c:\\python310\\lib\\site-packages)\n",
            "WARNING: Ignoring invalid distribution -pencv-python (c:\\python310\\lib\\site-packages)\n",
            "WARNING: Ignoring invalid distribution -ip (c:\\python310\\lib\\site-packages)\n",
            "WARNING: Ignoring invalid distribution -pencv-python (c:\\python310\\lib\\site-packages)\n",
            "  WARNING: Failed to write executable - trying to use .deleteme logic\n",
            "ERROR: Could not install packages due to an OSError: [WinError 2] The system cannot find the file specified: 'c:\\\\Python310\\\\Scripts\\\\f2py.exe' -> 'c:\\\\Python310\\\\Scripts\\\\f2py.exe.deleteme'\n",
            "\n"
          ]
        }
      ],
      "source": [
        "pip install -r requirements.txt"
      ]
    },
    {
      "cell_type": "code",
      "execution_count": 3,
      "metadata": {
        "colab": {
          "base_uri": "https://localhost:8080/"
        },
        "id": "EWU1YODuac8r",
        "outputId": "9c0f5ac1-f47a-4dc6-fbc0-286a5dd5dd12"
      },
      "outputs": [
        {
          "name": "stdout",
          "output_type": "stream",
          "text": [
            "Defaulting to user installation because normal site-packages is not writeable\n",
            "Requirement already satisfied: tesseract in c:\\users\\abhiram dacharla\\appdata\\roaming\\python\\python38\\site-packages (0.1.3)\n"
          ]
        },
        {
          "name": "stderr",
          "output_type": "stream",
          "text": [
            "WARNING: You are using pip version 21.1.1; however, version 24.0 is available.\n",
            "You should consider upgrading via the 'c:\\program files\\python38\\python.exe -m pip install --upgrade pip' command.\n"
          ]
        },
        {
          "name": "stdout",
          "output_type": "stream",
          "text": [
            "Defaulting to user installation because normal site-packages is not writeable\n",
            "Requirement already satisfied: Pillow in c:\\users\\abhiram dacharla\\appdata\\roaming\\python\\python38\\site-packages (10.2.0)\n"
          ]
        },
        {
          "name": "stderr",
          "output_type": "stream",
          "text": [
            "WARNING: You are using pip version 21.1.1; however, version 24.0 is available.\n",
            "You should consider upgrading via the 'c:\\program files\\python38\\python.exe -m pip install --upgrade pip' command.\n"
          ]
        },
        {
          "name": "stdout",
          "output_type": "stream",
          "text": [
            "Defaulting to user installation because normal site-packages is not writeable\n",
            "Requirement already satisfied: pytesseract in c:\\users\\abhiram dacharla\\appdata\\roaming\\python\\python38\\site-packages (0.3.10)\n",
            "Requirement already satisfied: packaging>=21.3 in c:\\users\\abhiram dacharla\\appdata\\roaming\\python\\python38\\site-packages (from pytesseract) (23.2)\n",
            "Requirement already satisfied: Pillow>=8.0.0 in c:\\users\\abhiram dacharla\\appdata\\roaming\\python\\python38\\site-packages (from pytesseract) (10.2.0)\n"
          ]
        },
        {
          "name": "stderr",
          "output_type": "stream",
          "text": [
            "WARNING: You are using pip version 21.1.1; however, version 24.0 is available.\n",
            "You should consider upgrading via the 'c:\\program files\\python38\\python.exe -m pip install --upgrade pip' command.\n"
          ]
        }
      ],
      "source": [
        "! pip install tesseract\n",
        "! pip install Pillow\n",
        "! pip install pytesseract"
      ]
    },
    {
      "cell_type": "code",
      "execution_count": 4,
      "metadata": {
        "id": "g9uPajWKb7bz"
      },
      "outputs": [
        {
          "ename": "ModuleNotFoundError",
          "evalue": "No module named 'hydra'",
          "output_type": "error",
          "traceback": [
            "\u001b[1;31m---------------------------------------------------------------------------\u001b[0m",
            "\u001b[1;31mModuleNotFoundError\u001b[0m                       Traceback (most recent call last)",
            "Cell \u001b[1;32mIn[4], line 1\u001b[0m\n\u001b[1;32m----> 1\u001b[0m \u001b[38;5;28;01mfrom\u001b[39;00m \u001b[38;5;21;01multralytics\u001b[39;00m \u001b[38;5;28;01mimport\u001b[39;00m YOLO\n\u001b[0;32m      2\u001b[0m \u001b[38;5;28;01mimport\u001b[39;00m \u001b[38;5;21;01mcv2\u001b[39;00m\n\u001b[0;32m      3\u001b[0m \u001b[38;5;28;01mimport\u001b[39;00m \u001b[38;5;21;01mpytesseract\u001b[39;00m\n",
            "File \u001b[1;32md:\\2024\\Project\\github_repo\\Helmet-Number-Plate-Detection\\ultralytics\\__init__.py:5\u001b[0m\n\u001b[0;32m      1\u001b[0m \u001b[38;5;66;03m# Ultralytics YOLO 🚀, GPL-3.0 license\u001b[39;00m\n\u001b[0;32m      3\u001b[0m __version__ \u001b[38;5;241m=\u001b[39m \u001b[38;5;124m\"\u001b[39m\u001b[38;5;124m8.0.3\u001b[39m\u001b[38;5;124m\"\u001b[39m\n\u001b[1;32m----> 5\u001b[0m \u001b[38;5;28;01mfrom\u001b[39;00m \u001b[38;5;21;01multralytics\u001b[39;00m\u001b[38;5;21;01m.\u001b[39;00m\u001b[38;5;21;01mhub\u001b[39;00m \u001b[38;5;28;01mimport\u001b[39;00m checks\n\u001b[0;32m      6\u001b[0m \u001b[38;5;28;01mfrom\u001b[39;00m \u001b[38;5;21;01multralytics\u001b[39;00m\u001b[38;5;21;01m.\u001b[39;00m\u001b[38;5;21;01myolo\u001b[39;00m\u001b[38;5;21;01m.\u001b[39;00m\u001b[38;5;21;01mengine\u001b[39;00m\u001b[38;5;21;01m.\u001b[39;00m\u001b[38;5;21;01mmodel\u001b[39;00m \u001b[38;5;28;01mimport\u001b[39;00m YOLO\n\u001b[0;32m      7\u001b[0m \u001b[38;5;28;01mfrom\u001b[39;00m \u001b[38;5;21;01multralytics\u001b[39;00m\u001b[38;5;21;01m.\u001b[39;00m\u001b[38;5;21;01myolo\u001b[39;00m\u001b[38;5;21;01m.\u001b[39;00m\u001b[38;5;21;01mutils\u001b[39;00m \u001b[38;5;28;01mimport\u001b[39;00m ops\n",
            "File \u001b[1;32md:\\2024\\Project\\github_repo\\Helmet-Number-Plate-Detection\\ultralytics\\hub\\__init__.py:15\u001b[0m\n\u001b[0;32m     13\u001b[0m \u001b[38;5;28;01mfrom\u001b[39;00m \u001b[38;5;21;01multralytics\u001b[39;00m\u001b[38;5;21;01m.\u001b[39;00m\u001b[38;5;21;01myolo\u001b[39;00m\u001b[38;5;21;01m.\u001b[39;00m\u001b[38;5;21;01mutils\u001b[39;00m \u001b[38;5;28;01mimport\u001b[39;00m LOGGER, emojis, is_colab\n\u001b[0;32m     14\u001b[0m \u001b[38;5;28;01mfrom\u001b[39;00m \u001b[38;5;21;01multralytics\u001b[39;00m\u001b[38;5;21;01m.\u001b[39;00m\u001b[38;5;21;01myolo\u001b[39;00m\u001b[38;5;21;01m.\u001b[39;00m\u001b[38;5;21;01mutils\u001b[39;00m\u001b[38;5;21;01m.\u001b[39;00m\u001b[38;5;21;01mtorch_utils\u001b[39;00m \u001b[38;5;28;01mimport\u001b[39;00m select_device\n\u001b[1;32m---> 15\u001b[0m \u001b[38;5;28;01mfrom\u001b[39;00m \u001b[38;5;21;01multralytics\u001b[39;00m\u001b[38;5;21;01m.\u001b[39;00m\u001b[38;5;21;01myolo\u001b[39;00m\u001b[38;5;21;01m.\u001b[39;00m\u001b[38;5;21;01mv8\u001b[39;00m\u001b[38;5;21;01m.\u001b[39;00m\u001b[38;5;21;01mdetect\u001b[39;00m \u001b[38;5;28;01mimport\u001b[39;00m DetectionTrainer\n\u001b[0;32m     18\u001b[0m \u001b[38;5;28;01mdef\u001b[39;00m \u001b[38;5;21mchecks\u001b[39m(verbose\u001b[38;5;241m=\u001b[39m\u001b[38;5;28;01mTrue\u001b[39;00m):\n\u001b[0;32m     19\u001b[0m     \u001b[38;5;28;01mif\u001b[39;00m is_colab():\n",
            "File \u001b[1;32md:\\2024\\Project\\github_repo\\Helmet-Number-Plate-Detection\\ultralytics\\yolo\\v8\\detect\\__init__.py:3\u001b[0m\n\u001b[0;32m      1\u001b[0m \u001b[38;5;66;03m# Ultralytics YOLO 🚀, GPL-3.0 license\u001b[39;00m\n\u001b[1;32m----> 3\u001b[0m \u001b[38;5;28;01mfrom\u001b[39;00m \u001b[38;5;21;01m.\u001b[39;00m\u001b[38;5;21;01mpredict\u001b[39;00m \u001b[38;5;28;01mimport\u001b[39;00m DetectionPredictor, predict\n\u001b[0;32m      4\u001b[0m \u001b[38;5;28;01mfrom\u001b[39;00m \u001b[38;5;21;01m.\u001b[39;00m\u001b[38;5;21;01mtrain\u001b[39;00m \u001b[38;5;28;01mimport\u001b[39;00m DetectionTrainer, train\n\u001b[0;32m      5\u001b[0m \u001b[38;5;28;01mfrom\u001b[39;00m \u001b[38;5;21;01m.\u001b[39;00m\u001b[38;5;21;01mval\u001b[39;00m \u001b[38;5;28;01mimport\u001b[39;00m DetectionValidator, val\n",
            "File \u001b[1;32md:\\2024\\Project\\github_repo\\Helmet-Number-Plate-Detection\\ultralytics\\yolo\\v8\\detect\\predict.py:3\u001b[0m\n\u001b[0;32m      1\u001b[0m \u001b[38;5;66;03m# Ultralytics YOLO 🚀, GPL-3.0 license\u001b[39;00m\n\u001b[1;32m----> 3\u001b[0m \u001b[38;5;28;01mimport\u001b[39;00m \u001b[38;5;21;01mhydra\u001b[39;00m\n\u001b[0;32m      4\u001b[0m \u001b[38;5;28;01mimport\u001b[39;00m \u001b[38;5;21;01mtorch\u001b[39;00m\n\u001b[0;32m      6\u001b[0m \u001b[38;5;28;01mfrom\u001b[39;00m \u001b[38;5;21;01multralytics\u001b[39;00m\u001b[38;5;21;01m.\u001b[39;00m\u001b[38;5;21;01myolo\u001b[39;00m\u001b[38;5;21;01m.\u001b[39;00m\u001b[38;5;21;01mengine\u001b[39;00m\u001b[38;5;21;01m.\u001b[39;00m\u001b[38;5;21;01mpredictor\u001b[39;00m \u001b[38;5;28;01mimport\u001b[39;00m BasePredictor\n",
            "\u001b[1;31mModuleNotFoundError\u001b[0m: No module named 'hydra'"
          ]
        }
      ],
      "source": [
        "from ultralytics import YOLO\n",
        "import cv2\n",
        "import pytesseract\n",
        "import os\n",
        "import sqlite3"
      ]
    },
    {
      "cell_type": "code",
      "execution_count": 7,
      "metadata": {
        "id": "Bg_OBnWdcWnw"
      },
      "outputs": [],
      "source": [
        "# Function to create the table if it doesn't exist\n",
        "def create_table():\n",
        "    # Connect to the SQLite database\n",
        "    conn = sqlite3.connect(\"vehicle_data.db\")\n",
        "    # Create a cursor object to execute SQL statements\n",
        "    c = conn.cursor()\n",
        "    # Create the \"vehicles\" table with two columns: \"vehicle_number\" and \"bike_image_path\"\n",
        "    # The \"IF NOT EXISTS\" clause ensures that the table is only created if it doesn't already exist\n",
        "    c.execute(\"CREATE TABLE IF NOT EXISTS vehicles (vehicle_number TEXT, bike_image_path TEXT)\")\n",
        "    # Commit the changes to the database\n",
        "    conn.commit()\n",
        "    # Close the database connection\n",
        "    conn.close()\n",
        "\n",
        "# Function to insert a record into the \"vehicles\" table\n",
        "def insert_record(vehicle_number, bike_image_path):\n",
        "    # Connect to the SQLite database\n",
        "    conn = sqlite3.connect(\"vehicle_data.db\")\n",
        "    # Create a cursor object to execute SQL statements\n",
        "    c = conn.cursor()\n",
        "    # Insert the record into the \"vehicles\" table using parameterized SQL statement\n",
        "    c.execute(\"INSERT INTO vehicles VALUES (?, ?)\", (vehicle_number, bike_image_path))\n",
        "    # Commit the changes to the database\n",
        "    conn.commit()\n",
        "    # Close the database connection\n",
        "    conn.close()"
      ]
    },
    {
      "cell_type": "code",
      "execution_count": 8,
      "metadata": {
        "id": "ZkvKG55gca5A"
      },
      "outputs": [],
      "source": [
        "# Initialize YOLO models\n",
        "person_bike_model = YOLO(r\"/content/Helmet-Number-Plate-Detection/Phase-1.pt\")\n",
        "helmet_model = YOLO(r\"/content/Helmet-Number-Plate-Detection/Phase-2.pt\")\n",
        "number_plate_model = YOLO(r\"/content/Helmet-Number-Plate-Detection/Phase-3.pt\")"
      ]
    },
    {
      "cell_type": "code",
      "execution_count": 9,
      "metadata": {
        "id": "iFPM8lJeceew"
      },
      "outputs": [],
      "source": [
        "# Set up Tesseract OCR\n",
        "pytesseract.pytesseract.tesseract_cmd = r\"/content/Helmet-Number-Plate-Detection/tesseract-ocr-setup-3.02.02.exe\"  # Update with the path to your Tesseract OCR executable"
      ]
    },
    {
      "cell_type": "code",
      "execution_count": 11,
      "metadata": {
        "id": "hDmRE_S0febv"
      },
      "outputs": [],
      "source": [
        "# Directory to save the output images\n",
        "output_dir = r\"/content/Helmet-Number-Plate-Detection\""
      ]
    },
    {
      "cell_type": "code",
      "execution_count": 12,
      "metadata": {
        "colab": {
          "base_uri": "https://localhost:8080/",
          "height": 1000
        },
        "id": "5S2RgRV3fvSo",
        "outputId": "77025970-8ac5-42bd-eb6c-9c0cb613b59c"
      },
      "outputs": [
        {
          "name": "stderr",
          "output_type": "stream",
          "text": [
            "Ultralytics YOLOv8.0.3 🚀 Python-3.10.12 torch-2.2.1+cu121 CPU\n",
            "Fusing layers... \n",
            "Model summary: 218 layers, 25840339 parameters, 0 gradients, 78.7 GFLOPs\n"
          ]
        },
        {
          "ename": "FileNotFoundError",
          "evalue": "/content/Helmet-Number-Plate-Detection/[[[176 200 220]\n  [176 200 220]\n  [176 200 220]\n  ...\n  [174 193 214]\n  [174 193 214]\n  [174 193 214]]\n\n [[176 200 220]\n  [176 200 220]\n  [176 200 220]\n  ...\n  [174 193 214]\n  [174 193 214]\n  [174 193 214]]\n\n [[176 200 220]\n  [176 200 220]\n  [176 200 220]\n  ...\n  [174 193 214]\n  [174 193 214]\n  [174 193 214]]\n\n ...\n\n [[127 123 117]\n  [127 123 117]\n  [127 123 117]\n  ...\n  [214 192 174]\n  [214 192 174]\n  [214 192 174]]\n\n [[127 123 117]\n  [127 123 117]\n  [127 123 117]\n  ...\n  [214 192 174]\n  [214 192 174]\n  [214 192 174]]\n\n [[127 123 117]\n  [127 123 117]\n  [127 123 117]\n  ...\n  [214 192 174]\n  [214 192 174]\n  [214 192 174]]] does not exist",
          "output_type": "error",
          "traceback": [
            "\u001b[0;31m---------------------------------------------------------------------------\u001b[0m",
            "\u001b[0;31mFileNotFoundError\u001b[0m                         Traceback (most recent call last)",
            "\u001b[0;32m<ipython-input-12-2810ae9ec054>\u001b[0m in \u001b[0;36m<cell line: 4>\u001b[0;34m()\u001b[0m\n\u001b[1;32m      8\u001b[0m     \u001b[0mimg\u001b[0m \u001b[0;34m=\u001b[0m \u001b[0mcv2\u001b[0m\u001b[0;34m.\u001b[0m\u001b[0mcvtColor\u001b[0m\u001b[0;34m(\u001b[0m\u001b[0mframe\u001b[0m\u001b[0;34m,\u001b[0m \u001b[0mcv2\u001b[0m\u001b[0;34m.\u001b[0m\u001b[0mCOLOR_BGR2RGB\u001b[0m\u001b[0;34m)\u001b[0m\u001b[0;34m\u001b[0m\u001b[0;34m\u001b[0m\u001b[0m\n\u001b[1;32m      9\u001b[0m     \u001b[0;31m# Detect person on a bike\u001b[0m\u001b[0;34m\u001b[0m\u001b[0;34m\u001b[0m\u001b[0m\n\u001b[0;32m---> 10\u001b[0;31m     \u001b[0mperson_bike_results\u001b[0m \u001b[0;34m=\u001b[0m \u001b[0mperson_bike_model\u001b[0m\u001b[0;34m.\u001b[0m\u001b[0mpredict\u001b[0m\u001b[0;34m(\u001b[0m\u001b[0mimg\u001b[0m\u001b[0;34m)\u001b[0m\u001b[0;34m\u001b[0m\u001b[0;34m\u001b[0m\u001b[0m\n\u001b[0m\u001b[1;32m     11\u001b[0m \u001b[0;34m\u001b[0m\u001b[0m\n\u001b[1;32m     12\u001b[0m     \u001b[0;31m# Process each detection result\u001b[0m\u001b[0;34m\u001b[0m\u001b[0;34m\u001b[0m\u001b[0m\n",
            "\u001b[0;32m/usr/local/lib/python3.10/dist-packages/torch/utils/_contextlib.py\u001b[0m in \u001b[0;36mdecorate_context\u001b[0;34m(*args, **kwargs)\u001b[0m\n\u001b[1;32m    113\u001b[0m     \u001b[0;32mdef\u001b[0m \u001b[0mdecorate_context\u001b[0m\u001b[0;34m(\u001b[0m\u001b[0;34m*\u001b[0m\u001b[0margs\u001b[0m\u001b[0;34m,\u001b[0m \u001b[0;34m**\u001b[0m\u001b[0mkwargs\u001b[0m\u001b[0;34m)\u001b[0m\u001b[0;34m:\u001b[0m\u001b[0;34m\u001b[0m\u001b[0;34m\u001b[0m\u001b[0m\n\u001b[1;32m    114\u001b[0m         \u001b[0;32mwith\u001b[0m \u001b[0mctx_factory\u001b[0m\u001b[0;34m(\u001b[0m\u001b[0;34m)\u001b[0m\u001b[0;34m:\u001b[0m\u001b[0;34m\u001b[0m\u001b[0;34m\u001b[0m\u001b[0m\n\u001b[0;32m--> 115\u001b[0;31m             \u001b[0;32mreturn\u001b[0m \u001b[0mfunc\u001b[0m\u001b[0;34m(\u001b[0m\u001b[0;34m*\u001b[0m\u001b[0margs\u001b[0m\u001b[0;34m,\u001b[0m \u001b[0;34m**\u001b[0m\u001b[0mkwargs\u001b[0m\u001b[0;34m)\u001b[0m\u001b[0;34m\u001b[0m\u001b[0;34m\u001b[0m\u001b[0m\n\u001b[0m\u001b[1;32m    116\u001b[0m \u001b[0;34m\u001b[0m\u001b[0m\n\u001b[1;32m    117\u001b[0m     \u001b[0;32mreturn\u001b[0m \u001b[0mdecorate_context\u001b[0m\u001b[0;34m\u001b[0m\u001b[0;34m\u001b[0m\u001b[0m\n",
            "\u001b[0;32m/content/Helmet-Number-Plate-Detection/ultralytics/yolo/engine/model.py\u001b[0m in \u001b[0;36mpredict\u001b[0;34m(self, source, **kwargs)\u001b[0m\n\u001b[1;32m    128\u001b[0m \u001b[0;34m\u001b[0m\u001b[0m\n\u001b[1;32m    129\u001b[0m         \u001b[0mpredictor\u001b[0m\u001b[0;34m.\u001b[0m\u001b[0margs\u001b[0m\u001b[0;34m.\u001b[0m\u001b[0mimgsz\u001b[0m \u001b[0;34m=\u001b[0m \u001b[0mcheck_imgsz\u001b[0m\u001b[0;34m(\u001b[0m\u001b[0mpredictor\u001b[0m\u001b[0;34m.\u001b[0m\u001b[0margs\u001b[0m\u001b[0;34m.\u001b[0m\u001b[0mimgsz\u001b[0m\u001b[0;34m,\u001b[0m \u001b[0mmin_dim\u001b[0m\u001b[0;34m=\u001b[0m\u001b[0;36m2\u001b[0m\u001b[0;34m)\u001b[0m  \u001b[0;31m# check image size\u001b[0m\u001b[0;34m\u001b[0m\u001b[0;34m\u001b[0m\u001b[0m\n\u001b[0;32m--> 130\u001b[0;31m         \u001b[0mpredictor\u001b[0m\u001b[0;34m.\u001b[0m\u001b[0msetup\u001b[0m\u001b[0;34m(\u001b[0m\u001b[0mmodel\u001b[0m\u001b[0;34m=\u001b[0m\u001b[0mself\u001b[0m\u001b[0;34m.\u001b[0m\u001b[0mmodel\u001b[0m\u001b[0;34m,\u001b[0m \u001b[0msource\u001b[0m\u001b[0;34m=\u001b[0m\u001b[0msource\u001b[0m\u001b[0;34m)\u001b[0m\u001b[0;34m\u001b[0m\u001b[0;34m\u001b[0m\u001b[0m\n\u001b[0m\u001b[1;32m    131\u001b[0m         \u001b[0;32mreturn\u001b[0m \u001b[0mpredictor\u001b[0m\u001b[0;34m(\u001b[0m\u001b[0;34m)\u001b[0m\u001b[0;34m\u001b[0m\u001b[0;34m\u001b[0m\u001b[0m\n\u001b[1;32m    132\u001b[0m \u001b[0;34m\u001b[0m\u001b[0m\n",
            "\u001b[0;32m/content/Helmet-Number-Plate-Detection/ultralytics/yolo/engine/predictor.py\u001b[0m in \u001b[0;36msetup\u001b[0;34m(self, source, model)\u001b[0m\n\u001b[1;32m    141\u001b[0m                                            transforms=getattr(model.model, 'transforms', None))\n\u001b[1;32m    142\u001b[0m         \u001b[0;32melse\u001b[0m\u001b[0;34m:\u001b[0m\u001b[0;34m\u001b[0m\u001b[0;34m\u001b[0m\u001b[0m\n\u001b[0;32m--> 143\u001b[0;31m             self.dataset = LoadImages(source,\n\u001b[0m\u001b[1;32m    144\u001b[0m                                       \u001b[0mimgsz\u001b[0m\u001b[0;34m=\u001b[0m\u001b[0mimgsz\u001b[0m\u001b[0;34m,\u001b[0m\u001b[0;34m\u001b[0m\u001b[0;34m\u001b[0m\u001b[0m\n\u001b[1;32m    145\u001b[0m                                       \u001b[0mstride\u001b[0m\u001b[0;34m=\u001b[0m\u001b[0mstride\u001b[0m\u001b[0;34m,\u001b[0m\u001b[0;34m\u001b[0m\u001b[0;34m\u001b[0m\u001b[0m\n",
            "\u001b[0;32m/content/Helmet-Number-Plate-Detection/ultralytics/yolo/data/dataloaders/stream_loaders.py\u001b[0m in \u001b[0;36m__init__\u001b[0;34m(self, path, imgsz, stride, auto, transforms, vid_stride)\u001b[0m\n\u001b[1;32m    169\u001b[0m                 \u001b[0mfiles\u001b[0m\u001b[0;34m.\u001b[0m\u001b[0mappend\u001b[0m\u001b[0;34m(\u001b[0m\u001b[0mp\u001b[0m\u001b[0;34m)\u001b[0m  \u001b[0;31m# files\u001b[0m\u001b[0;34m\u001b[0m\u001b[0;34m\u001b[0m\u001b[0m\n\u001b[1;32m    170\u001b[0m             \u001b[0;32melse\u001b[0m\u001b[0;34m:\u001b[0m\u001b[0;34m\u001b[0m\u001b[0;34m\u001b[0m\u001b[0m\n\u001b[0;32m--> 171\u001b[0;31m                 \u001b[0;32mraise\u001b[0m \u001b[0mFileNotFoundError\u001b[0m\u001b[0;34m(\u001b[0m\u001b[0;34mf'{p} does not exist'\u001b[0m\u001b[0;34m)\u001b[0m\u001b[0;34m\u001b[0m\u001b[0;34m\u001b[0m\u001b[0m\n\u001b[0m\u001b[1;32m    172\u001b[0m \u001b[0;34m\u001b[0m\u001b[0m\n\u001b[1;32m    173\u001b[0m         \u001b[0mimages\u001b[0m \u001b[0;34m=\u001b[0m \u001b[0;34m[\u001b[0m\u001b[0mx\u001b[0m \u001b[0;32mfor\u001b[0m \u001b[0mx\u001b[0m \u001b[0;32min\u001b[0m \u001b[0mfiles\u001b[0m \u001b[0;32mif\u001b[0m \u001b[0mx\u001b[0m\u001b[0;34m.\u001b[0m\u001b[0msplit\u001b[0m\u001b[0;34m(\u001b[0m\u001b[0;34m'.'\u001b[0m\u001b[0;34m)\u001b[0m\u001b[0;34m[\u001b[0m\u001b[0;34m-\u001b[0m\u001b[0;36m1\u001b[0m\u001b[0;34m]\u001b[0m\u001b[0;34m.\u001b[0m\u001b[0mlower\u001b[0m\u001b[0;34m(\u001b[0m\u001b[0;34m)\u001b[0m \u001b[0;32min\u001b[0m \u001b[0mIMG_FORMATS\u001b[0m\u001b[0;34m]\u001b[0m\u001b[0;34m\u001b[0m\u001b[0;34m\u001b[0m\u001b[0m\n",
            "\u001b[0;31mFileNotFoundError\u001b[0m: /content/Helmet-Number-Plate-Detection/[[[176 200 220]\n  [176 200 220]\n  [176 200 220]\n  ...\n  [174 193 214]\n  [174 193 214]\n  [174 193 214]]\n\n [[176 200 220]\n  [176 200 220]\n  [176 200 220]\n  ...\n  [174 193 214]\n  [174 193 214]\n  [174 193 214]]\n\n [[176 200 220]\n  [176 200 220]\n  [176 200 220]\n  ...\n  [174 193 214]\n  [174 193 214]\n  [174 193 214]]\n\n ...\n\n [[127 123 117]\n  [127 123 117]\n  [127 123 117]\n  ...\n  [214 192 174]\n  [214 192 174]\n  [214 192 174]]\n\n [[127 123 117]\n  [127 123 117]\n  [127 123 117]\n  ...\n  [214 192 174]\n  [214 192 174]\n  [214 192 174]]\n\n [[127 123 117]\n  [127 123 117]\n  [127 123 117]\n  ...\n  [214 192 174]\n  [214 192 174]\n  [214 192 174]]] does not exist"
          ]
        }
      ],
      "source": [
        "# Set up video capture\n",
        "video_capture = cv2.VideoCapture(r\"/content/Helmet-Number-Plate-Detection/helmet_demo.mp4\")  # Use 0 for the default camera or provide the desired camera index\n",
        "\n",
        "while True:\n",
        "    # Capture frame-by-frame\n",
        "    ret, frame = video_capture.read()\n",
        "    # Process frame\n",
        "    img = cv2.cvtColor(frame, cv2.COLOR_BGR2RGB)\n",
        "    # Detect person on a bike\n",
        "    person_bike_results = person_bike_model.predict(img)\n",
        "\n",
        "    # Process each detection result\n",
        "    print(\"Bike Result\")\n",
        "    for r in person_bike_results:\n",
        "        boxes = r.boxes\n",
        "        # Filter detections for person on a bike\n",
        "        for box in boxes:\n",
        "            cls = box.cls\n",
        "            print(person_bike_model.names[int(cls)], person_bike_model.names[int(cls)] == \"Person_Bikes\")\n",
        "            if person_bike_model.names[int(cls)] == \"Person_Bike\":\n",
        "                # Crop person on a bike image\n",
        "                x1, y1, x2, y2 = box.xyxy[0]\n",
        "                person_bike_image = frame[int(y1):int(y2), int(x1):int(x2)]\n",
        "\n",
        "                # Detect helmet on the person\n",
        "                helmet_results = helmet_model.predict(person_bike_image)\n",
        "\n",
        "                # Process each helmet detection result\n",
        "                for hr in helmet_results:\n",
        "                    h_boxes = hr.boxes\n",
        "                    # Filter detections for no helmet\n",
        "                    for h_bo in h_boxes:\n",
        "                        h_cls = h_bo.cls\n",
        "                        if not helmet_model.names[int(h_cls)] == \"With Helmet\" :\n",
        "                            print(\"Person wihout Element\")\n",
        "                            # Extract number plate from the person bike image\n",
        "                            number_plate_results = number_plate_model.predict(person_bike_image)\n",
        "\n",
        "                            # Process each number plate detection result\n",
        "                            for npr in number_plate_results:\n",
        "                                np_boxes = npr.boxes\n",
        "                                # Filter detections for number plate\n",
        "                                for np_box in np_boxes:\n",
        "                                    np_cls = np_box.cls\n",
        "                                    print(number_plate_model.names[int(np_cls)])\n",
        "                                    if number_plate_model.names[int(np_cls)] == \"number_plate\":\n",
        "                                        # Crop number plate image\n",
        "                                        np_x1, np_y1, np_x2, np_y2 = np_box.xyxy[0]\n",
        "                                        number_plate_image = person_bike_image[int(np_y1):int(np_y2),\n",
        "                                                             int(np_x1):int(np_x2)]\n",
        "                                        # Save the cropped number plate image\n",
        "                                        output_file = f\"person_violation_{image_file}\"\n",
        "                                        output_path = os.path.join(output_dir, output_file)\n",
        "                                        cv2.imwrite(output_path, person_bike_image)\n",
        "\n",
        "                                        # Perform OCR on the number plate image\n",
        "                                        gray = cv2.cvtColor(number_plate_image, cv2.COLOR_BGR2GRAY)\n",
        "                                        text = pytesseract.image_to_string(gray)\n",
        "                                        # Example usage\n",
        "                                        # Create the \"vehicles\" table if it doesn't exist\n",
        "                                        create_table()\n",
        "                                        # Insert two records into the \"vehicles\" table\n",
        "                                        insert_record(text, output_path)\n",
        "                                        # Print the extracted text\n",
        "                                        print(\"Number Plate Text:\", text)"
      ]
    }
  ],
  "metadata": {
    "colab": {
      "provenance": []
    },
    "kernelspec": {
      "display_name": "Python 3",
      "name": "python3"
    },
    "language_info": {
      "codemirror_mode": {
        "name": "ipython",
        "version": 3
      },
      "file_extension": ".py",
      "mimetype": "text/x-python",
      "name": "python",
      "nbconvert_exporter": "python",
      "pygments_lexer": "ipython3",
      "version": "3.10.5"
    }
  },
  "nbformat": 4,
  "nbformat_minor": 0
}
